{
  "nbformat": 4,
  "nbformat_minor": 0,
  "metadata": {
    "colab": {
      "name": "MLProject.ipynb",
      "provenance": [],
      "collapsed_sections": []
    },
    "kernelspec": {
      "name": "python3",
      "display_name": "Python 3"
    },
    "language_info": {
      "name": "python"
    }
  },
  "cells": [
    {
      "cell_type": "markdown",
      "metadata": {
        "id": "kjDwUC0Ifjts"
      },
      "source": [
        "We are generally start our project by importing basic packages"
      ]
    },
    {
      "cell_type": "code",
      "metadata": {
        "id": "BcvRhoYBfRhq"
      },
      "source": [
        "import numpy as np\n",
        "import pandas as pd\n",
        "import sklearn"
      ],
      "execution_count": 2,
      "outputs": []
    },
    {
      "cell_type": "markdown",
      "metadata": {
        "id": "dsR5aUgAgGJj"
      },
      "source": [
        "Now we will take our datset for processing\n",
        "Title:- Boston House Pricing"
      ]
    },
    {
      "cell_type": "code",
      "metadata": {
        "id": "Du8Liey9gFHU"
      },
      "source": [
        "from sklearn.datasets import load_boston\n",
        "df=load_boston()"
      ],
      "execution_count": 3,
      "outputs": []
    },
    {
      "cell_type": "code",
      "metadata": {
        "colab": {
          "base_uri": "https://localhost:8080/"
        },
        "id": "2vDBiGyoglpE",
        "outputId": "4dda5832-662b-44fe-b9c5-1050cc8736ee"
      },
      "source": [
        "df.keys()  #Returns all keys"
      ],
      "execution_count": 9,
      "outputs": [
        {
          "output_type": "execute_result",
          "data": {
            "text/plain": [
              "dict_keys(['data', 'target', 'feature_names', 'DESCR', 'filename'])"
            ]
          },
          "metadata": {
            "tags": []
          },
          "execution_count": 9
        }
      ]
    },
    {
      "cell_type": "code",
      "metadata": {
        "id": "gptCPoang3Pe"
      },
      "source": [
        "print(df.DESCR)  #Gives info about dataset"
      ],
      "execution_count": null,
      "outputs": []
    },
    {
      "cell_type": "code",
      "metadata": {
        "id": "mtbqbPgUkevK"
      },
      "source": [
        "print(df.feature_names)  #It gives the column names"
      ],
      "execution_count": null,
      "outputs": []
    },
    {
      "cell_type": "code",
      "metadata": {
        "id": "3rNOQ5S1luxV"
      },
      "source": [
        "print(df.filename)   #gives directory address"
      ],
      "execution_count": null,
      "outputs": []
    },
    {
      "cell_type": "code",
      "metadata": {
        "id": "0GOS1bifmLOC"
      },
      "source": [
        "print(df.target)  #It gives the aim or target(cost of every house)"
      ],
      "execution_count": null,
      "outputs": []
    },
    {
      "cell_type": "code",
      "metadata": {
        "id": "bCLr_DMDmxuH"
      },
      "source": [
        "print(df.data)  #It gives entire data"
      ],
      "execution_count": null,
      "outputs": []
    },
    {
      "cell_type": "markdown",
      "metadata": {
        "id": "MggD4RUWnKLc"
      },
      "source": [
        "We convert our dataset into pandas dataframe ,so that it is easy to analyze"
      ]
    },
    {
      "cell_type": "code",
      "metadata": {
        "id": "aXB5CrX8nAJg"
      },
      "source": [
        "boston=pd.DataFrame(df.data,columns=df.feature_names)\n",
        "boston.head()  #First five lines of dataset"
      ],
      "execution_count": null,
      "outputs": []
    },
    {
      "cell_type": "markdown",
      "metadata": {
        "id": "cW--4iaWqwxi"
      },
      "source": [
        "Adding a new column of target values"
      ]
    },
    {
      "cell_type": "code",
      "metadata": {
        "id": "L8zHHylArl33"
      },
      "source": [
        "boston['Price']=df.target\n",
        "boston.head()"
      ],
      "execution_count": null,
      "outputs": []
    },
    {
      "cell_type": "markdown",
      "metadata": {
        "id": "SZsdNpensWQI"
      },
      "source": [
        "Checking for any null values"
      ]
    },
    {
      "cell_type": "code",
      "metadata": {
        "id": "FMwXnq5LsVV6"
      },
      "source": [
        "boston.isnull()"
      ],
      "execution_count": null,
      "outputs": []
    },
    {
      "cell_type": "markdown",
      "metadata": {
        "id": "Zc-98uOwtSiZ"
      },
      "source": [
        ""
      ]
    },
    {
      "cell_type": "markdown",
      "metadata": {
        "id": "m5YCnAfetdFF"
      },
      "source": [
        "isnull return True or False for each of the cell in the dataframe, but we can't go exploring all the cells to look for True values if any, so we use sum() function to count all the cells with True value (i.e Null cells)"
      ]
    },
    {
      "cell_type": "code",
      "metadata": {
        "id": "WkImN0ytshKn"
      },
      "source": [
        "boston.isnull().sum()"
      ],
      "execution_count": null,
      "outputs": []
    },
    {
      "cell_type": "markdown",
      "metadata": {
        "id": "d6fQ6_uWvxAz"
      },
      "source": [
        "We never train the model on all the data that we have, we always make sure to atleast have a test dataset, which is different from the training dataset."
      ]
    },
    {
      "cell_type": "code",
      "metadata": {
        "id": "Nh5srMPduKnW"
      },
      "source": [
        "from sklearn.model_selection import train_test_split\n",
        "X=boston.drop('Price',axis=1)\n",
        "Y=boston['Price']\n",
        "X_train,X_test,Y_train,Y_test=train_test_split(X,Y,test_size=0.15,random_state=5)\n",
        "print(X_train.shape)\n",
        "print(X_test.shape)\n",
        "print(Y_train.shape)\n",
        "print(Y_test.shape)"
      ],
      "execution_count": null,
      "outputs": []
    },
    {
      "cell_type": "markdown",
      "metadata": {
        "id": "0MOkQp3_0bD9"
      },
      "source": [
        "Now let's import the Linear Regression model from sklearn and train it on the training dataset"
      ]
    },
    {
      "cell_type": "code",
      "metadata": {
        "id": "85o_le3bzI37"
      },
      "source": [
        "from sklearn.linear_model import LinearRegression\n",
        "from sklearn.metrics import mean_squared_error"
      ],
      "execution_count": 25,
      "outputs": []
    },
    {
      "cell_type": "code",
      "metadata": {
        "id": "nOLww6CH0cu5"
      },
      "source": [
        "## FITTING MODEL ON THE TRAINING DATASET\n",
        "\n",
        "lin_model = LinearRegression()\n",
        "\n",
        "lin_model.fit(X_train, Y_train)"
      ],
      "execution_count": null,
      "outputs": []
    },
    {
      "cell_type": "code",
      "metadata": {
        "id": "EhAtFOxP0-5V"
      },
      "source": [
        "y_train_predict = lin_model.predict(X_train)\n",
        "rmse = (np.sqrt(mean_squared_error(Y_train, y_train_predict)))\n",
        "\n",
        "print(\"The Model Performance for Training Set\")\n",
        "print(\"RMSE is {}\".format(rmse))\n",
        "print(\"\\n\")\n",
        "\n",
        "# on testing set\n",
        "y_test_predict = lin_model.predict(X_test)\n",
        "rmse = (np.sqrt(mean_squared_error(Y_test, y_test_predict)))\n",
        "\n",
        "print(\"The Model Performance for Testing Set\")\n",
        "print(\"RMSE is {}\".format(rmse))"
      ],
      "execution_count": null,
      "outputs": []
    }
  ]
}